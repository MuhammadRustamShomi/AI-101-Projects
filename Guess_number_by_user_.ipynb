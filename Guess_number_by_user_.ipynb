{
  "nbformat": 4,
  "nbformat_minor": 0,
  "metadata": {
    "colab": {
      "provenance": [],
      "authorship_tag": "ABX9TyM04uBMJywR7lpehCtGQPcM",
      "include_colab_link": true
    },
    "kernelspec": {
      "name": "python3",
      "display_name": "Python 3"
    },
    "language_info": {
      "name": "python"
    }
  },
  "cells": [
    {
      "cell_type": "markdown",
      "metadata": {
        "id": "view-in-github",
        "colab_type": "text"
      },
      "source": [
        "<a href=\"https://colab.research.google.com/github/MuhammadRustamShomi/AI-101-Projects/blob/main/Guess_number_by_user_.ipynb\" target=\"_parent\"><img src=\"https://colab.research.google.com/assets/colab-badge.svg\" alt=\"Open In Colab\"/></a>"
      ]
    },
    {
      "cell_type": "markdown",
      "source": [
        "**Guess Number By User**"
      ],
      "metadata": {
        "id": "DEsApgMZj4fi"
      }
    },
    {
      "cell_type": "code",
      "execution_count": 1,
      "metadata": {
        "colab": {
          "base_uri": "https://localhost:8080/"
        },
        "id": "PZ-B6T1PjwPX",
        "outputId": "ae631ef9-cba9-44f9-d4ea-8befd677939c"
      },
      "outputs": [
        {
          "output_type": "stream",
          "name": "stdout",
          "text": [
            "Think of a number between 1 and 100, and I'll try to guess it!\n",
            "Press Enter when you're ready...\n",
            "My guess is: 96\n",
            "Is my guess too high (H), too low (L), or correct (C)? h\n",
            "My guess is: 26\n",
            "Is my guess too high (H), too low (L), or correct (C)? l\n",
            "My guess is: 59\n",
            "Is my guess too high (H), too low (L), or correct (C)? h\n",
            "My guess is: 34\n",
            "Is my guess too high (H), too low (L), or correct (C)? l\n",
            "My guess is: 35\n",
            "Is my guess too high (H), too low (L), or correct (C)? l\n",
            "My guess is: 52\n",
            "Is my guess too high (H), too low (L), or correct (C)? h\n",
            "My guess is: 47\n",
            "Is my guess too high (H), too low (L), or correct (C)? l\n",
            "My guess is: 51\n",
            "Is my guess too high (H), too low (L), or correct (C)? h\n",
            "My guess is: 50\n",
            "Is my guess too high (H), too low (L), or correct (C)? c\n",
            "Yay! I guessed your number 50 in 9 attempts!\n"
          ]
        }
      ],
      "source": [
        "import random\n",
        "\n",
        "def computer_guess():\n",
        "    print(\"Think of a number between 1 and 100, and I'll try to guess it!\")\n",
        "    input(\"Press Enter when you're ready...\")\n",
        "\n",
        "    low = 1\n",
        "    high = 100\n",
        "    attempts = 0\n",
        "    guessed_correctly = False\n",
        "\n",
        "    while not guessed_correctly:\n",
        "        # Computer makes a guess\n",
        "        guess = random.randint(low, high)\n",
        "        attempts += 1\n",
        "        print(f\"My guess is: {guess}\")\n",
        "\n",
        "        # Get user feedback\n",
        "        feedback = input(\"Is my guess too high (H), too low (L), or correct (C)? \").lower()\n",
        "\n",
        "        # Adjust range based on feedback\n",
        "        if feedback == 'h':\n",
        "            high = guess - 1\n",
        "        elif feedback == 'l':\n",
        "            low = guess + 1\n",
        "        elif feedback == 'c':\n",
        "            print(f\"Yay! I guessed your number {guess} in {attempts} attempts!\")\n",
        "            guessed_correctly = True\n",
        "        else:\n",
        "            print(\"Invalid input. Please enter 'H', 'L', or 'C'.\")\n",
        "\n",
        "# Start the game\n",
        "computer_guess()\n"
      ]
    }
  ]
}