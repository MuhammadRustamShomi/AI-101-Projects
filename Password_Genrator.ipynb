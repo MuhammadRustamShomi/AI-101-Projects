{
  "nbformat": 4,
  "nbformat_minor": 0,
  "metadata": {
    "colab": {
      "provenance": [],
      "authorship_tag": "ABX9TyNot6YljzJrLLY+ZuOfrA5H",
      "include_colab_link": true
    },
    "kernelspec": {
      "name": "python3",
      "display_name": "Python 3"
    },
    "language_info": {
      "name": "python"
    }
  },
  "cells": [
    {
      "cell_type": "markdown",
      "metadata": {
        "id": "view-in-github",
        "colab_type": "text"
      },
      "source": [
        "<a href=\"https://colab.research.google.com/github/MuhammadRustamShomi/AI-101-Projects/blob/main/Password_Genrator.ipynb\" target=\"_parent\"><img src=\"https://colab.research.google.com/assets/colab-badge.svg\" alt=\"Open In Colab\"/></a>"
      ]
    },
    {
      "cell_type": "markdown",
      "source": [
        "**Password Genrator**"
      ],
      "metadata": {
        "id": "Mqbfplan4MAF"
      }
    },
    {
      "cell_type": "code",
      "execution_count": null,
      "metadata": {
        "colab": {
          "base_uri": "https://localhost:8080/"
        },
        "id": "4XUchzTH38Ky",
        "outputId": "d34d9f5e-fed7-4c53-f316-4bfc9dda5c1f"
      },
      "outputs": [
        {
          "output_type": "stream",
          "name": "stdout",
          "text": [
            "How many passwords do you want to generate? 1\n",
            "Enter the password length: 8\n",
            "\n",
            "Generated Passwords:\n",
            "xzvkHiB6\n"
          ]
        }
      ],
      "source": [
        "import random\n",
        "import string\n",
        "\n",
        "def generate_password(length):\n",
        "    characters = string.ascii_letters + string.digits\n",
        "    return ''.join(random.choice(characters) for _ in range(length))\n",
        "\n",
        "# Get user input\n",
        "num_passwords = int(input(\"How many passwords do you want to generate? \"))\n",
        "password_length = int(input(\"Enter the password length: \"))\n",
        "\n",
        "print(\"\\nGenerated Passwords:\")\n",
        "for _ in range(num_passwords):\n",
        "    print(generate_password(password_length))\n"
      ]
    }
  ]
}