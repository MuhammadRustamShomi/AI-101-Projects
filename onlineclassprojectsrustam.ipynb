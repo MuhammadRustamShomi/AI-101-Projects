{
  "nbformat": 4,
  "nbformat_minor": 0,
  "metadata": {
    "colab": {
      "provenance": [],
      "authorship_tag": "ABX9TyMvR7lxNCeyktUWo4xWgNWO",
      "include_colab_link": true
    },
    "kernelspec": {
      "name": "python3",
      "display_name": "Python 3"
    },
    "language_info": {
      "name": "python"
    }
  },
  "cells": [
    {
      "cell_type": "markdown",
      "metadata": {
        "id": "view-in-github",
        "colab_type": "text"
      },
      "source": [
        "<a href=\"https://colab.research.google.com/github/MuhammadRustamShomi/AI-101-Projects/blob/main/onlineclassprojectsrustam.ipynb\" target=\"_parent\"><img src=\"https://colab.research.google.com/assets/colab-badge.svg\" alt=\"Open In Colab\"/></a>"
      ]
    },
    {
      "cell_type": "markdown",
      "source": [
        "#Joke Bot"
      ],
      "metadata": {
        "id": "Hr3f8IzEnAob"
      }
    },
    {
      "cell_type": "code",
      "execution_count": 2,
      "metadata": {
        "colab": {
          "base_uri": "https://localhost:8080/"
        },
        "id": "48AYlkhzm26f",
        "outputId": "8057c0e8-087a-47e9-ef0d-243dc0dab31f"
      },
      "outputs": [
        {
          "output_type": "stream",
          "name": "stdout",
          "text": [
            "What do you want? joke\n",
            "Here is a joke for you! Panaversity GPT - Sophia is heading out to the grocery store. A programmer tells her: get a liter of milk, and if they have eggs, get 12. Sophia returns with 13 liters of milk. The programmer asks why and Sophia replies: 'because they had eggs'\n"
          ]
        }
      ],
      "source": [
        "PROMPT: str = \"What do you want? \"\n",
        "JOKE: str = (\"Here is a joke for you! Panaversity GPT - Sophia is heading out to the grocery store. \"\n",
        "        \"A programmer tells her: get a liter of milk, and if they have eggs, get 12. \"\n",
        "        \"Sophia returns with 13 liters of milk. The programmer asks why and Sophia replies: 'because they had eggs'\")\n",
        "SORRY: str = \"Sorry I only tell jokes.\"\n",
        "\n",
        "def main():\n",
        "    user_input = input(PROMPT)\n",
        "    user_input = user_input.strip().lower()\n",
        "\n",
        "    if \"joke\" in user_input:\n",
        "        print(JOKE)\n",
        "    else:\n",
        "        print(SORRY)\n",
        "\n",
        "if __name__ == \"__main__\":\n",
        "    main()\n"
      ]
    },
    {
      "cell_type": "markdown",
      "source": [
        "#Untill Double It"
      ],
      "metadata": {
        "id": "hW7GmYsVpYRH"
      }
    },
    {
      "cell_type": "code",
      "source": [
        "def main():\n",
        "    # Ask the user to enter a number\n",
        "    curr_value = int(input(\"Enter a number: \"))\n",
        "\n",
        "    # Double the number and print the result until it is 100 or greater\n",
        "    while curr_value < 100:\n",
        "        curr_value = curr_value * 2  # Double the current value\n",
        "        print(curr_value, end=' ')   # Print the current value on the same line\n",
        "\n",
        "# This provided line is required at the end of\n",
        "# Python file to call the main() function.\n",
        "if __name__ == '__main__':\n",
        "    main()\n"
      ],
      "metadata": {
        "colab": {
          "base_uri": "https://localhost:8080/"
        },
        "id": "AkK9u3CUpdy2",
        "outputId": "42d9e735-28ec-423b-e320-29ef47d3ce88"
      },
      "execution_count": 3,
      "outputs": [
        {
          "output_type": "stream",
          "name": "stdout",
          "text": [
            "Enter a number: 2\n",
            "4 8 16 32 64 128 "
          ]
        }
      ]
    }
  ]
}