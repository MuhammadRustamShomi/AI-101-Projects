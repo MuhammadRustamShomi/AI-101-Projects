{
  "nbformat": 4,
  "nbformat_minor": 0,
  "metadata": {
    "colab": {
      "provenance": []
    },
    "kernelspec": {
      "name": "python3",
      "display_name": "Python 3"
    },
    "language_info": {
      "name": "python"
    }
  },
  "cells": [
    {
      "cell_type": "markdown",
      "source": [
        "**Mad Libs**"
      ],
      "metadata": {
        "id": "9CUhx6E4TZfs"
      }
    },
    {
      "cell_type": "code",
      "execution_count": null,
      "metadata": {
        "colab": {
          "base_uri": "https://localhost:8080/"
        },
        "id": "wLBQyLU0TAve",
        "outputId": "49973560-8414-462d-a0cb-8bf69557e5a5"
      },
      "outputs": [
        {
          "name": "stdout",
          "output_type": "stream",
          "text": [
            "Enter a name: Ali\n"
          ]
        }
      ],
      "source": [
        "# Mad Libs Project\n",
        "# Prompting the user for inputs\n",
        "name = input(\"Enter a name: \")\n"
      ]
    },
    {
      "cell_type": "code",
      "source": [
        "food = input(\"Enter your favorite food: \")\n"
      ],
      "metadata": {
        "colab": {
          "base_uri": "https://localhost:8080/"
        },
        "id": "tiXIU-oGXKef",
        "outputId": "e03955b0-7fc4-4ed4-dcd9-08b0bcd7bf83"
      },
      "execution_count": null,
      "outputs": [
        {
          "name": "stdout",
          "output_type": "stream",
          "text": [
            "Enter your favorite food: Biryani\n"
          ]
        }
      ]
    },
    {
      "cell_type": "code",
      "source": [
        "adjective = input(\"Enter an adjective: \")\n"
      ],
      "metadata": {
        "colab": {
          "base_uri": "https://localhost:8080/"
        },
        "id": "GZAJw9IJXN51",
        "outputId": "2f8b9cb7-ae0c-477b-9e6a-e7006245c133"
      },
      "execution_count": null,
      "outputs": [
        {
          "name": "stdout",
          "output_type": "stream",
          "text": [
            "Enter an adjective: delicious\n"
          ]
        }
      ]
    },
    {
      "cell_type": "code",
      "source": [
        "\n",
        "place = input(\"Enter a place: \")"
      ],
      "metadata": {
        "colab": {
          "base_uri": "https://localhost:8080/"
        },
        "id": "H31k5PYdXQ2Q",
        "outputId": "4602330d-8780-4315-ff62-86f359ff8c1e"
      },
      "execution_count": null,
      "outputs": [
        {
          "name": "stdout",
          "output_type": "stream",
          "text": [
            "Enter a place: Saddar\n"
          ]
        }
      ]
    },
    {
      "cell_type": "code",
      "source": [
        "# Creating the story using f-strings\n",
        "story = f\"{name} loves {food}. One day, he found a {adjective} plate of {food} at {place}. It was the best day ever!\""
      ],
      "metadata": {
        "id": "wH7wvs0OXTWM"
      },
      "execution_count": null,
      "outputs": []
    },
    {
      "cell_type": "code",
      "source": [
        "# Printing the story\n",
        "print(\"\\nHere is your Mad Libs story:\")\n",
        "print(story)"
      ],
      "metadata": {
        "colab": {
          "base_uri": "https://localhost:8080/"
        },
        "id": "ewAUQoW3XclZ",
        "outputId": "df5813e2-0856-482a-9f1c-6e89bf2d6e43"
      },
      "execution_count": null,
      "outputs": [
        {
          "output_type": "stream",
          "name": "stdout",
          "text": [
            "\n",
            "Here is your Mad Libs story:\n",
            "Ali loves Biryani. One day, he found a delicious plate of Biryani at Saddar. It was the best day ever!\n"
          ]
        }
      ]
    }
  ]
}