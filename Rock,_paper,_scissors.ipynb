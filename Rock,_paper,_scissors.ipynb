{
  "nbformat": 4,
  "nbformat_minor": 0,
  "metadata": {
    "colab": {
      "provenance": [],
      "authorship_tag": "ABX9TyOX//3Q5QBRQSNP9zE0h9kU",
      "include_colab_link": true
    },
    "kernelspec": {
      "name": "python3",
      "display_name": "Python 3"
    },
    "language_info": {
      "name": "python"
    }
  },
  "cells": [
    {
      "cell_type": "markdown",
      "metadata": {
        "id": "view-in-github",
        "colab_type": "text"
      },
      "source": [
        "<a href=\"https://colab.research.google.com/github/MuhammadRustamShomi/AI-101-Projects/blob/main/Rock%2C_paper%2C_scissors.ipynb\" target=\"_parent\"><img src=\"https://colab.research.google.com/assets/colab-badge.svg\" alt=\"Open In Colab\"/></a>"
      ]
    },
    {
      "cell_type": "code",
      "execution_count": null,
      "metadata": {
        "id": "ZSHDVVJMmCjb"
      },
      "outputs": [],
      "source": [
        "import random\n",
        "\n",
        "# List of possible choices\n",
        "options = [\"rock\", \"paper\", \"scissors\"]\n",
        "\n",
        "print(\"Welcome to Rock, Paper, Scissors!\")\n",
        "print(\"Type 'rock', 'paper', or 'scissors' to play.\")\n",
        "print(\"Type 'quit' to exit the game.\")\n",
        "\n",
        "while True:\n",
        "    # Get user's choice\n",
        "    user_choice = input(\"\\nYour choice: \").lower()\n",
        "\n",
        "    # Check if the user wants to quit\n",
        "    if user_choice == \"quit\":\n",
        "        print(\"Thanks for playing!\")\n",
        "        break\n",
        "\n",
        "    # Validate user input\n",
        "    if user_choice not in options:\n",
        "        print(\"Invalid choice. Try again.\")\n",
        "        continue\n",
        "\n",
        "    # Computer's choice\n",
        "    computer_choice = random.choice(options)\n",
        "    print(f\"Computer chose: {computer_choice}\")\n",
        "\n",
        "    # Determine the winner\n",
        "    if user_choice == computer_choice:\n",
        "        print(\"It's a tie!\")\n",
        "    elif (user_choice == \"rock\" and computer_choice == \"scissors\") or \\\n",
        "         (user_choice == \"paper\" and computer_choice == \"rock\") or \\\n",
        "         (user_choice == \"scissors\" and computer_choice == \"paper\"):\n",
        "        print(\"You win!\")\n",
        "    else:\n",
        "        print(\"You lose!\")\n"
      ]
    }
  ]
}