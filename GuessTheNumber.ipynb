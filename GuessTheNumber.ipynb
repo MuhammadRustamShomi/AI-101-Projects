{
  "nbformat": 4,
  "nbformat_minor": 0,
  "metadata": {
    "colab": {
      "provenance": [],
      "authorship_tag": "ABX9TyOu/J11uK2E6YEgPzT5Ou7w",
      "include_colab_link": true
    },
    "kernelspec": {
      "name": "python3",
      "display_name": "Python 3"
    },
    "language_info": {
      "name": "python"
    }
  },
  "cells": [
    {
      "cell_type": "markdown",
      "metadata": {
        "id": "view-in-github",
        "colab_type": "text"
      },
      "source": [
        "<a href=\"https://colab.research.google.com/github/MuhammadRustamShomi/AI-101-Projects/blob/main/GuessTheNumber.ipynb\" target=\"_parent\"><img src=\"https://colab.research.google.com/assets/colab-badge.svg\" alt=\"Open In Colab\"/></a>"
      ]
    },
    {
      "cell_type": "code",
      "execution_count": 1,
      "metadata": {
        "colab": {
          "base_uri": "https://localhost:8080/"
        },
        "id": "8k0oJp_m5e2m",
        "outputId": "d4dfbca6-d494-42a4-b462-6948e94fae48"
      },
      "outputs": [
        {
          "output_type": "stream",
          "name": "stdout",
          "text": [
            "Guess the number (between 0 and 99)\n",
            "Enter your guess: 50\n",
            "Too high! Try again.\n",
            "Enter your guess: 25\n",
            "Too low! Try again.\n",
            "Enter your guess: 40\n",
            "Too low! Try again.\n",
            "Enter your guess: 30\n",
            "Too low! Try again.\n",
            "Enter your guess: 45\n",
            "Too low! Try again.\n",
            "Enter your guess: 48\n",
            "Too high! Try again.\n",
            "Enter your guess: 47\n",
            "Too high! Try again.\n",
            "Enter your guess: 46\n",
            "Congratulations! You guessed the number in 8 attempts.\n"
          ]
        }
      ],
      "source": [
        "import random\n",
        "\n",
        "# Generate a random number between 0 and 99\n",
        "secret_number = random.randint(0, 99)\n",
        "attempts = 0\n",
        "\n",
        "print(\"Guess the number (between 0 and 99)\")\n",
        "\n",
        "while True:\n",
        "    try:\n",
        "        guess = int(input(\"Enter your guess: \"))\n",
        "        attempts += 1\n",
        "\n",
        "        if guess < secret_number:\n",
        "            print(\"Too low! Try again.\")\n",
        "        elif guess > secret_number:\n",
        "            print(\"Too high! Try again.\")\n",
        "        else:\n",
        "            print(f\"Congratulations! You guessed the number in {attempts} attempts.\")\n",
        "            break\n",
        "    except ValueError:\n",
        "        print(\"Invalid input! Please enter a number.\")\n"
      ]
    }
  ]
}