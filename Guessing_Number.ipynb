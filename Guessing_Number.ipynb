{
  "nbformat": 4,
  "nbformat_minor": 0,
  "metadata": {
    "colab": {
      "provenance": [],
      "authorship_tag": "ABX9TyNXieAtKWm0Gsbo4vE5omkD",
      "include_colab_link": true
    },
    "kernelspec": {
      "name": "python3",
      "display_name": "Python 3"
    },
    "language_info": {
      "name": "python"
    }
  },
  "cells": [
    {
      "cell_type": "markdown",
      "metadata": {
        "id": "view-in-github",
        "colab_type": "text"
      },
      "source": [
        "<a href=\"https://colab.research.google.com/github/MuhammadRustamShomi/AI-101-Projects/blob/main/Guessing_Number.ipynb\" target=\"_parent\"><img src=\"https://colab.research.google.com/assets/colab-badge.svg\" alt=\"Open In Colab\"/></a>"
      ]
    },
    {
      "cell_type": "markdown",
      "source": [
        "**Number Guessing Game**"
      ],
      "metadata": {
        "id": "oueapolMeSF2"
      }
    },
    {
      "cell_type": "code",
      "execution_count": 3,
      "metadata": {
        "colab": {
          "base_uri": "https://localhost:8080/"
        },
        "id": "XnTMVc2JeKkm",
        "outputId": "1a64b577-5c7b-40e6-a763-ff166ccd17e9"
      },
      "outputs": [
        {
          "output_type": "stream",
          "name": "stdout",
          "text": [
            "I'm thinking of a number between 1 and 10. Can you guess it?\n"
          ]
        }
      ],
      "source": [
        "import random\n",
        "# Generate a random number between 1 and 10\n",
        "secret_number = random.randint(1, 10)\n",
        "print(\"I'm thinking of a number between 1 and 10. Can you guess it?\")"
      ]
    },
    {
      "cell_type": "code",
      "source": [
        "while True:\n",
        "    # Get the user's guess\n",
        "    guess = int(input(\"Enter your guess: \"))\n",
        "# Check the guess\n",
        "    if guess < secret_number:\n",
        "        print(\"Too low! Try again.\")\n",
        "    elif guess > secret_number:\n",
        "        print(\"Too high! Try again.\")\n",
        "    else:\n",
        "        print(\"Congratulations! You guessed it!\")\n",
        "        break  # End the game\n"
      ],
      "metadata": {
        "colab": {
          "base_uri": "https://localhost:8080/"
        },
        "id": "3WgQEMMweqlD",
        "outputId": "173b8a80-3d21-4a6a-e6a0-17658a023cef"
      },
      "execution_count": 5,
      "outputs": [
        {
          "output_type": "stream",
          "name": "stdout",
          "text": [
            "Enter your guess: 7\n",
            "Congratulations! You guessed it!\n"
          ]
        }
      ]
    }
  ]
}